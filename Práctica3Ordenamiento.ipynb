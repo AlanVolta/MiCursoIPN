{
  "nbformat": 4,
  "nbformat_minor": 0,
  "metadata": {
    "colab": {
      "name": "Práctica3Ordenamiento.ipynb",
      "provenance": [],
      "authorship_tag": "ABX9TyNC1jPaIOet6ViMAVCEaGbp",
      "include_colab_link": true
    },
    "kernelspec": {
      "name": "python3",
      "display_name": "Python 3"
    },
    "language_info": {
      "name": "python"
    }
  },
  "cells": [
    {
      "cell_type": "markdown",
      "metadata": {
        "id": "view-in-github",
        "colab_type": "text"
      },
      "source": [
        "<a href=\"https://colab.research.google.com/github/AlanVolta/MiCursoIPN/blob/master/Pr%C3%A1ctica3Ordenamiento.ipynb\" target=\"_parent\"><img src=\"https://colab.research.google.com/assets/colab-badge.svg\" alt=\"Open In Colab\"/></a>"
      ]
    },
    {
      "cell_type": "markdown",
      "metadata": {
        "id": "594_79BBg0fu"
      },
      "source": [
        "Ordenamiento"
      ]
    },
    {
      "cell_type": "code",
      "metadata": {
        "colab": {
          "base_uri": "https://localhost:8080/"
        },
        "id": "cPg3yOsvcStV",
        "outputId": "14d437a3-acf4-43dc-c64e-76dc8064c441"
      },
      "source": [
        "lista_ = [5,1,6,2,4,3]\n",
        "\n",
        "### Worst case\n",
        "### Término dominante O(n^2)\n",
        "for steps in range(len(lista_)-1,0,-1):\n",
        "  print('steps',steps)\n",
        "  for i in range(steps): #(6-1)\n",
        "    print('indice:',i,\"Me estás comparando con:\",i+1)\n",
        "    if lista_[i] > lista_[i+1]:\n",
        "      temp = lista_[i]\n",
        "      lista_[i] = lista_[i+1]\n",
        "      lista_[i+1] = temp\n",
        "  print(lista_)"
      ],
      "execution_count": 10,
      "outputs": [
        {
          "output_type": "stream",
          "text": [
            "steps 5\n",
            "indice: 0 Me estás comparando con: 1\n",
            "indice: 1 Me estás comparando con: 2\n",
            "indice: 2 Me estás comparando con: 3\n",
            "indice: 3 Me estás comparando con: 4\n",
            "indice: 4 Me estás comparando con: 5\n",
            "[1, 5, 2, 4, 3, 6]\n",
            "steps 4\n",
            "indice: 0 Me estás comparando con: 1\n",
            "indice: 1 Me estás comparando con: 2\n",
            "indice: 2 Me estás comparando con: 3\n",
            "indice: 3 Me estás comparando con: 4\n",
            "[1, 2, 4, 3, 5, 6]\n",
            "steps 3\n",
            "indice: 0 Me estás comparando con: 1\n",
            "indice: 1 Me estás comparando con: 2\n",
            "indice: 2 Me estás comparando con: 3\n",
            "[1, 2, 3, 4, 5, 6]\n",
            "steps 2\n",
            "indice: 0 Me estás comparando con: 1\n",
            "indice: 1 Me estás comparando con: 2\n",
            "[1, 2, 3, 4, 5, 6]\n",
            "steps 1\n",
            "indice: 0 Me estás comparando con: 1\n",
            "[1, 2, 3, 4, 5, 6]\n"
          ],
          "name": "stdout"
        }
      ]
    },
    {
      "cell_type": "code",
      "metadata": {
        "id": "jMODgBwNhUxU"
      },
      "source": [
        "### Worst case\n",
        "### Término dominante O(n^2)\n",
        "def BubleSort(lista_):\n",
        "  for steps in range(len(lista_)-1,0,-1):\n",
        "    for i in range(steps): #(6-1)\n",
        "      print('indice:',i,\"Me estás comparando con:\",i+1)\n",
        "      if lista_[i] > lista_[i+1]:\n",
        "        temp = lista_[i]\n",
        "        lista_[i] = lista_[i+1]\n",
        "        lista_[i+1] = temp\n",
        "  return(lista_)"
      ],
      "execution_count": 14,
      "outputs": []
    },
    {
      "cell_type": "code",
      "metadata": {
        "colab": {
          "base_uri": "https://localhost:8080/"
        },
        "id": "g0J6vp4KhssJ",
        "outputId": "849e305d-1114-46cb-baea-4ca15bd51155"
      },
      "source": [
        "BubleSort([6,3,2,1,5])"
      ],
      "execution_count": 15,
      "outputs": [
        {
          "output_type": "stream",
          "text": [
            "indice: 0 Me estás comparando con: 1\n",
            "indice: 1 Me estás comparando con: 2\n",
            "indice: 2 Me estás comparando con: 3\n",
            "indice: 3 Me estás comparando con: 4\n",
            "indice: 0 Me estás comparando con: 1\n",
            "indice: 1 Me estás comparando con: 2\n",
            "indice: 2 Me estás comparando con: 3\n",
            "indice: 0 Me estás comparando con: 1\n",
            "indice: 1 Me estás comparando con: 2\n",
            "indice: 0 Me estás comparando con: 1\n"
          ],
          "name": "stdout"
        },
        {
          "output_type": "execute_result",
          "data": {
            "text/plain": [
              "[1, 2, 3, 5, 6]"
            ]
          },
          "metadata": {
            "tags": []
          },
          "execution_count": 15
        }
      ]
    },
    {
      "cell_type": "code",
      "metadata": {
        "id": "lHY5QpeCiC8t"
      },
      "source": [
        "def unsortedList(size_of_array):\n",
        "  import random\n",
        "  \n",
        "  random_list = []\n",
        "  for i in range(0,size_of_array):\n",
        "    n = random.randint(1,10)\n",
        "    random_list.append(n)\n",
        "  return random_list\n"
      ],
      "execution_count": 19,
      "outputs": []
    },
    {
      "cell_type": "code",
      "metadata": {
        "colab": {
          "base_uri": "https://localhost:8080/"
        },
        "id": "EmOrdK15ijiE",
        "outputId": "40160f5d-6d28-4066-8505-63492009451e"
      },
      "source": [
        "BubleSort(unsortedList(10))"
      ],
      "execution_count": 20,
      "outputs": [
        {
          "output_type": "stream",
          "text": [
            "indice: 0 Me estás comparando con: 1\n",
            "indice: 1 Me estás comparando con: 2\n",
            "indice: 2 Me estás comparando con: 3\n",
            "indice: 3 Me estás comparando con: 4\n",
            "indice: 4 Me estás comparando con: 5\n",
            "indice: 5 Me estás comparando con: 6\n",
            "indice: 6 Me estás comparando con: 7\n",
            "indice: 7 Me estás comparando con: 8\n",
            "indice: 8 Me estás comparando con: 9\n",
            "indice: 0 Me estás comparando con: 1\n",
            "indice: 1 Me estás comparando con: 2\n",
            "indice: 2 Me estás comparando con: 3\n",
            "indice: 3 Me estás comparando con: 4\n",
            "indice: 4 Me estás comparando con: 5\n",
            "indice: 5 Me estás comparando con: 6\n",
            "indice: 6 Me estás comparando con: 7\n",
            "indice: 7 Me estás comparando con: 8\n",
            "indice: 0 Me estás comparando con: 1\n",
            "indice: 1 Me estás comparando con: 2\n",
            "indice: 2 Me estás comparando con: 3\n",
            "indice: 3 Me estás comparando con: 4\n",
            "indice: 4 Me estás comparando con: 5\n",
            "indice: 5 Me estás comparando con: 6\n",
            "indice: 6 Me estás comparando con: 7\n",
            "indice: 0 Me estás comparando con: 1\n",
            "indice: 1 Me estás comparando con: 2\n",
            "indice: 2 Me estás comparando con: 3\n",
            "indice: 3 Me estás comparando con: 4\n",
            "indice: 4 Me estás comparando con: 5\n",
            "indice: 5 Me estás comparando con: 6\n",
            "indice: 0 Me estás comparando con: 1\n",
            "indice: 1 Me estás comparando con: 2\n",
            "indice: 2 Me estás comparando con: 3\n",
            "indice: 3 Me estás comparando con: 4\n",
            "indice: 4 Me estás comparando con: 5\n",
            "indice: 0 Me estás comparando con: 1\n",
            "indice: 1 Me estás comparando con: 2\n",
            "indice: 2 Me estás comparando con: 3\n",
            "indice: 3 Me estás comparando con: 4\n",
            "indice: 0 Me estás comparando con: 1\n",
            "indice: 1 Me estás comparando con: 2\n",
            "indice: 2 Me estás comparando con: 3\n",
            "indice: 0 Me estás comparando con: 1\n",
            "indice: 1 Me estás comparando con: 2\n",
            "indice: 0 Me estás comparando con: 1\n"
          ],
          "name": "stdout"
        },
        {
          "output_type": "execute_result",
          "data": {
            "text/plain": [
              "[3, 3, 3, 3, 3, 4, 6, 10, 10, 10]"
            ]
          },
          "metadata": {
            "tags": []
          },
          "execution_count": 20
        }
      ]
    },
    {
      "cell_type": "code",
      "metadata": {
        "colab": {
          "base_uri": "https://localhost:8080/"
        },
        "id": "HF_WmTmQghwe",
        "outputId": "ad4bdeb0-e4fb-4c56-c7a7-94cdf9962cba"
      },
      "source": [
        "lista_ = [8,22,7,9,31,5,13]\n",
        "\n",
        "for steps in range(len(lista_)-1,0,-1):\n",
        "  print('steps',steps)\n",
        "  for i in range(steps): #(6-1)\n",
        "    print('indice:',i,\"Me estás comparando con:\",i+1)\n",
        "    if lista_[i] > lista_[i+1]:\n",
        "      temp = lista_[i]\n",
        "      lista_[i] = lista_[i+1]\n",
        "      lista_[i+1] = temp\n",
        "  print(lista_)"
      ],
      "execution_count": 11,
      "outputs": [
        {
          "output_type": "stream",
          "text": [
            "steps 6\n",
            "indice: 0 Me estás comparando con: 1\n",
            "indice: 1 Me estás comparando con: 2\n",
            "indice: 2 Me estás comparando con: 3\n",
            "indice: 3 Me estás comparando con: 4\n",
            "indice: 4 Me estás comparando con: 5\n",
            "indice: 5 Me estás comparando con: 6\n",
            "[8, 7, 9, 22, 5, 13, 31]\n",
            "steps 5\n",
            "indice: 0 Me estás comparando con: 1\n",
            "indice: 1 Me estás comparando con: 2\n",
            "indice: 2 Me estás comparando con: 3\n",
            "indice: 3 Me estás comparando con: 4\n",
            "indice: 4 Me estás comparando con: 5\n",
            "[7, 8, 9, 5, 13, 22, 31]\n",
            "steps 4\n",
            "indice: 0 Me estás comparando con: 1\n",
            "indice: 1 Me estás comparando con: 2\n",
            "indice: 2 Me estás comparando con: 3\n",
            "indice: 3 Me estás comparando con: 4\n",
            "[7, 8, 5, 9, 13, 22, 31]\n",
            "steps 3\n",
            "indice: 0 Me estás comparando con: 1\n",
            "indice: 1 Me estás comparando con: 2\n",
            "indice: 2 Me estás comparando con: 3\n",
            "[7, 5, 8, 9, 13, 22, 31]\n",
            "steps 2\n",
            "indice: 0 Me estás comparando con: 1\n",
            "indice: 1 Me estás comparando con: 2\n",
            "[5, 7, 8, 9, 13, 22, 31]\n",
            "steps 1\n",
            "indice: 0 Me estás comparando con: 1\n",
            "[5, 7, 8, 9, 13, 22, 31]\n"
          ],
          "name": "stdout"
        }
      ]
    },
    {
      "cell_type": "code",
      "metadata": {
        "id": "q_emQ9VjkKlq"
      },
      "source": [
        "##Best Case?\n",
        "def bubleSortOptimized(lista):## Este algoritmo, su mejor caso, es cuando es le present auna lista rodenada\n",
        "                              ###Término dominante ews O(n^2)\n",
        "\n",
        "                              ###Con un caso promedio, que sería una lista semi-ordenada, O(n^2)\n",
        "  swapped = True\n",
        "  steps_ = len(lista)-1\n",
        "  while steps_ > 0 and swapped:\n",
        "    print('step:', steps_)\n",
        "    swapped = False\n",
        "    for i in range(steps_):\n",
        "      print('indice:',i,'comparado con:',i+1)\n",
        "      if lista[i] > lista[i+1]:\n",
        "       swapped = True\n",
        "       temp = lista[i]\n",
        "       lista[i] = lista[i+1]\n",
        "       lista[i+1] = temp\n",
        "    steps_ = steps_ - 1\n",
        "    print(lista)\n",
        "  return lista"
      ],
      "execution_count": 34,
      "outputs": []
    },
    {
      "cell_type": "code",
      "metadata": {
        "colab": {
          "base_uri": "https://localhost:8080/"
        },
        "id": "FblqOXQ1miuL",
        "outputId": "c7789373-f685-494b-eed7-fb34ab97f7bb"
      },
      "source": [
        "bubleSortOptimized([7,3,1,4,3,8,9])"
      ],
      "execution_count": 35,
      "outputs": [
        {
          "output_type": "stream",
          "text": [
            "step: 6\n",
            "indice: 0 comparado con: 1\n",
            "indice: 1 comparado con: 2\n",
            "indice: 2 comparado con: 3\n",
            "indice: 3 comparado con: 4\n",
            "indice: 4 comparado con: 5\n",
            "indice: 5 comparado con: 6\n",
            "[3, 1, 4, 3, 7, 8, 9]\n",
            "step: 5\n",
            "indice: 0 comparado con: 1\n",
            "indice: 1 comparado con: 2\n",
            "indice: 2 comparado con: 3\n",
            "indice: 3 comparado con: 4\n",
            "indice: 4 comparado con: 5\n",
            "[1, 3, 3, 4, 7, 8, 9]\n",
            "step: 4\n",
            "indice: 0 comparado con: 1\n",
            "indice: 1 comparado con: 2\n",
            "indice: 2 comparado con: 3\n",
            "indice: 3 comparado con: 4\n",
            "[1, 3, 3, 4, 7, 8, 9]\n"
          ],
          "name": "stdout"
        },
        {
          "output_type": "execute_result",
          "data": {
            "text/plain": [
              "[1, 3, 3, 4, 7, 8, 9]"
            ]
          },
          "metadata": {
            "tags": []
          },
          "execution_count": 35
        }
      ]
    },
    {
      "cell_type": "code",
      "metadata": {
        "id": "gN0gsY8anpzs"
      },
      "source": [
        ""
      ],
      "execution_count": null,
      "outputs": []
    }
  ]
}