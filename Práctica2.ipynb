{
  "nbformat": 4,
  "nbformat_minor": 0,
  "metadata": {
    "colab": {
      "name": "Práctica2.ipynb",
      "provenance": [],
      "authorship_tag": "ABX9TyMfBFnqKDHCzFZpocmJ9FwY",
      "include_colab_link": true
    },
    "kernelspec": {
      "name": "python3",
      "display_name": "Python 3"
    },
    "language_info": {
      "name": "python"
    }
  },
  "cells": [
    {
      "cell_type": "markdown",
      "metadata": {
        "id": "view-in-github",
        "colab_type": "text"
      },
      "source": [
        "<a href=\"https://colab.research.google.com/github/AlanVolta/MiCursoIPN/blob/master/Pr%C3%A1ctica2.ipynb\" target=\"_parent\"><img src=\"https://colab.research.google.com/assets/colab-badge.svg\" alt=\"Open In Colab\"/></a>"
      ]
    },
    {
      "cell_type": "markdown",
      "metadata": {
        "id": "MgArAS1GORmu"
      },
      "source": [
        "#**Análisis y complejidad de algortimos**"
      ]
    },
    {
      "cell_type": "code",
      "metadata": {
        "colab": {
          "base_uri": "https://localhost:8080/"
        },
        "id": "R5nlsLCWOWjO",
        "outputId": "db4c86bc-74dd-4f31-e5e5-17109b43329a"
      },
      "source": [
        "a = 5 #------- 1\n",
        "b = 6 #-------1\n",
        "c = 10 #--------1\n",
        "n = 3\n",
        "for i in range(n): #-------n\n",
        "  for j in range(n): #-------n*n\n",
        "    x = i*i #----n*n\n",
        "    y = j*j #-----n*n\n",
        "    z = i*j #-----n*n\n",
        "for k in range(n): #-------n\n",
        "  w = k*k #------n\n",
        "  s = 3*k #------n\n",
        "\n",
        "print(c) #------1\n",
        "\n",
        "#T(n) = 3 + 3n^2 + 2n + 1 = 3n^2 +2n + 4\n",
        "#Término dominante en notación big O: O(n^2)"
      ],
      "execution_count": 1,
      "outputs": [
        {
          "output_type": "stream",
          "text": [
            "10\n"
          ],
          "name": "stdout"
        }
      ]
    },
    {
      "cell_type": "markdown",
      "metadata": {
        "id": "Vwv8NivfTfNg"
      },
      "source": [
        "Términos dominantes"
      ]
    },
    {
      "cell_type": "code",
      "metadata": {
        "colab": {
          "base_uri": "https://localhost:8080/"
        },
        "id": "0CS5NIa9Tnhd",
        "outputId": "0f091a70-be65-46ac-8ff2-d77aefef0306"
      },
      "source": [
        "#Término dominante o(1)\n",
        "\n",
        "a = 1 #-----1\n",
        "B = 2 #-----1\n",
        "c = 1 #-----1\n",
        "\n",
        "if a < b:\n",
        "  print('OK') #-----1\n",
        "else:\n",
        "  print('False') #-----1\n",
        "\n",
        "  #T(n) = 5\n",
        "  #o(1)\n",
        "\n",
        "#for i in (2): #-----1"
      ],
      "execution_count": 2,
      "outputs": [
        {
          "output_type": "stream",
          "text": [
            "OK\n"
          ],
          "name": "stdout"
        }
      ]
    },
    {
      "cell_type": "code",
      "metadata": {
        "colab": {
          "base_uri": "https://localhost:8080/"
        },
        "id": "x0XbOOtuT-KN",
        "outputId": "7ecda326-89aa-48b7-f517-6c2c81b90082"
      },
      "source": [
        "#Notación dominante o(n)\n",
        "lista = [9,3,2,4,5,6]\n",
        "for i  in range(len(lista)): ##-----n\n",
        "  print(i) #-----n\n",
        "\n",
        "  #T(n) = n + 1\n",
        "  #0(1)"
      ],
      "execution_count": 3,
      "outputs": [
        {
          "output_type": "stream",
          "text": [
            "0\n",
            "1\n",
            "2\n",
            "3\n",
            "4\n",
            "5\n"
          ],
          "name": "stdout"
        }
      ]
    },
    {
      "cell_type": "code",
      "metadata": {
        "colab": {
          "base_uri": "https://localhost:8080/"
        },
        "id": "TKHC7FaKVCCa",
        "outputId": "35ed548f-1699-4f51-8b1a-c70e6bc142da"
      },
      "source": [
        "array_a = [1,2,3,4,5,6,7,8,9,10] #-----1\n",
        "array_b = [1,2,3,4,5,6,7,8,9,10,] #-----1\n",
        "for i in range(len(array_a)): #-----Orden A\n",
        "  for j in range(len(array_b)): #----Orden B\n",
        "    print(i)\n",
        "    print(j)\n",
        "\n",
        "#T(n) = A*B * 2\n",
        "#O(A*B)"
      ],
      "execution_count": 5,
      "outputs": [
        {
          "output_type": "stream",
          "text": [
            "0\n",
            "0\n",
            "0\n",
            "1\n",
            "0\n",
            "2\n",
            "0\n",
            "3\n",
            "0\n",
            "4\n",
            "0\n",
            "5\n",
            "0\n",
            "6\n",
            "0\n",
            "7\n",
            "0\n",
            "8\n",
            "0\n",
            "9\n",
            "1\n",
            "0\n",
            "1\n",
            "1\n",
            "1\n",
            "2\n",
            "1\n",
            "3\n",
            "1\n",
            "4\n",
            "1\n",
            "5\n",
            "1\n",
            "6\n",
            "1\n",
            "7\n",
            "1\n",
            "8\n",
            "1\n",
            "9\n",
            "2\n",
            "0\n",
            "2\n",
            "1\n",
            "2\n",
            "2\n",
            "2\n",
            "3\n",
            "2\n",
            "4\n",
            "2\n",
            "5\n",
            "2\n",
            "6\n",
            "2\n",
            "7\n",
            "2\n",
            "8\n",
            "2\n",
            "9\n",
            "3\n",
            "0\n",
            "3\n",
            "1\n",
            "3\n",
            "2\n",
            "3\n",
            "3\n",
            "3\n",
            "4\n",
            "3\n",
            "5\n",
            "3\n",
            "6\n",
            "3\n",
            "7\n",
            "3\n",
            "8\n",
            "3\n",
            "9\n",
            "4\n",
            "0\n",
            "4\n",
            "1\n",
            "4\n",
            "2\n",
            "4\n",
            "3\n",
            "4\n",
            "4\n",
            "4\n",
            "5\n",
            "4\n",
            "6\n",
            "4\n",
            "7\n",
            "4\n",
            "8\n",
            "4\n",
            "9\n",
            "5\n",
            "0\n",
            "5\n",
            "1\n",
            "5\n",
            "2\n",
            "5\n",
            "3\n",
            "5\n",
            "4\n",
            "5\n",
            "5\n",
            "5\n",
            "6\n",
            "5\n",
            "7\n",
            "5\n",
            "8\n",
            "5\n",
            "9\n",
            "6\n",
            "0\n",
            "6\n",
            "1\n",
            "6\n",
            "2\n",
            "6\n",
            "3\n",
            "6\n",
            "4\n",
            "6\n",
            "5\n",
            "6\n",
            "6\n",
            "6\n",
            "7\n",
            "6\n",
            "8\n",
            "6\n",
            "9\n",
            "7\n",
            "0\n",
            "7\n",
            "1\n",
            "7\n",
            "2\n",
            "7\n",
            "3\n",
            "7\n",
            "4\n",
            "7\n",
            "5\n",
            "7\n",
            "6\n",
            "7\n",
            "7\n",
            "7\n",
            "8\n",
            "7\n",
            "9\n",
            "8\n",
            "0\n",
            "8\n",
            "1\n",
            "8\n",
            "2\n",
            "8\n",
            "3\n",
            "8\n",
            "4\n",
            "8\n",
            "5\n",
            "8\n",
            "6\n",
            "8\n",
            "7\n",
            "8\n",
            "8\n",
            "8\n",
            "9\n",
            "9\n",
            "0\n",
            "9\n",
            "1\n",
            "9\n",
            "2\n",
            "9\n",
            "3\n",
            "9\n",
            "4\n",
            "9\n",
            "5\n",
            "9\n",
            "6\n",
            "9\n",
            "7\n",
            "9\n",
            "8\n",
            "9\n",
            "9\n"
          ],
          "name": "stdout"
        }
      ]
    },
    {
      "cell_type": "code",
      "metadata": {
        "id": "oGlwSQ01aNsn"
      },
      "source": [
        "def lista_anidada(seq, num):\n",
        "    avg = len(seq) / float(num)\n",
        "    out = []\n",
        "    last = 0.0\n",
        "\n",
        "    while last < len(seq):\n",
        "        out.append(seq[int(last):int(last + avg)])\n",
        "        last += avg\n",
        "\n",
        "    return out"
      ],
      "execution_count": 6,
      "outputs": []
    },
    {
      "cell_type": "code",
      "metadata": {
        "colab": {
          "base_uri": "https://localhost:8080/"
        },
        "id": "TbNuliwoWZE_",
        "outputId": "83f4b5c5-a619-4b1b-882f-b57efd6c13a2"
      },
      "source": [
        "import time\n",
        "\n",
        "inicio = time.time()\n",
        "lista_anidada_1 = lista_anidada(range(1000000),10) #-----1\n",
        "print(lista_anidada)\n",
        "for i in range(0,len(lista_anidada_1)): #-----n\n",
        "  for j in range(0,len(lista_anidada_1[0])): #-----A*B\n",
        "    if lista_anidada_1[i][j] == 4: #-----A*B\n",
        "      print('El valor cuatro se encuentra en nuestra lista anidada') #-----A*B\n",
        "\n",
        "fin = time.time()\n",
        "print(fin-inicio)\n",
        "\n",
        "#T(n) = 1 + 2(A*B)\n",
        "#O(n) = O(A*B)"
      ],
      "execution_count": 7,
      "outputs": [
        {
          "output_type": "stream",
          "text": [
            "<function lista_anidada at 0x7f67da5cba70>\n",
            "El valor cuatro se encuentra en nuestra lista anidada\n",
            "0.2565271854400635\n"
          ],
          "name": "stdout"
        }
      ]
    },
    {
      "cell_type": "code",
      "metadata": {
        "colab": {
          "base_uri": "https://localhost:8080/",
          "height": 282
        },
        "id": "fCjK4XeEaxi0",
        "outputId": "600cfd0e-6c5f-437f-f208-b25218c498f9"
      },
      "source": [
        "lista_time = [0.0005140304565429688,\n",
        "0.0025675296783447266,\n",
        "0.02837991714477539,\n",
        "0.2512784004211426,\n",
        "2.418222665786743,\n",
        "23.34418487548828]\n",
        "\n",
        "import matplotlib.pyplot as plt\n",
        "plt.plot(lista_time)"
      ],
      "execution_count": 8,
      "outputs": [
        {
          "output_type": "execute_result",
          "data": {
            "text/plain": [
              "[<matplotlib.lines.Line2D at 0x7f67da5adf50>]"
            ]
          },
          "metadata": {
            "tags": []
          },
          "execution_count": 8
        },
        {
          "output_type": "display_data",
          "data": {
            "image/png": "[encoded data removed]",
            "text/plain": [
              "<Figure size 432x288 with 1 Axes>"
            ]
          },
          "metadata": {
            "tags": [],
            "needs_background": "light"
          }
        }
      ]
    },
    {
      "cell_type": "code",
      "metadata": {
        "id": "hEX64bKE8btF"
      },
      "source": [
        ""
      ],
      "execution_count": null,
      "outputs": []
    },
    {
      "cell_type": "markdown",
      "metadata": {
        "id": "QNvqfXLlcezh"
      },
      "source": [
        "**Problema:** Se tiene una lista de datos desordenada, requerimos encontrar el valor mínimo de toda nuestra lista de datos. Implemente una solución que sea óptima para asegurar que nuestros recursos satisfagan nuestra necesidad."
      ]
    },
    {
      "cell_type": "code",
      "metadata": {
        "id": "Rdg4fP8PctZr"
      },
      "source": [
        "lista = [5,4,2,1,0]\n",
        "\n",
        "###----------worst case\n",
        "def findMin(alist):\n",
        "  minimo = alist[0] ###--------O(n^2)\n",
        "  for i in alist:\n",
        "    valor_minimo = True\n",
        "    for j in alist:\n",
        "      if i > j :\n",
        "        valor_minimo = False\n",
        "    if valor_minimo:\n",
        "      minimo = i\n",
        "  return minimo"
      ],
      "execution_count": 9,
      "outputs": []
    },
    {
      "cell_type": "code",
      "metadata": {
        "colab": {
          "base_uri": "https://localhost:8080/"
        },
        "id": "mxURzYonfaJ7",
        "outputId": "fca474ad-59ad-4f8e-fb21-48e614055bc0"
      },
      "source": [
        "print(findMin(lista))"
      ],
      "execution_count": 10,
      "outputs": [
        {
          "output_type": "stream",
          "text": [
            "0\n"
          ],
          "name": "stdout"
        }
      ]
    },
    {
      "cell_type": "code",
      "metadata": {
        "id": "5bqEfPQijqxm"
      },
      "source": [
        "def findMinOptimizado(lista_):\n",
        "#### Best case\n",
        "  set_min = lista_[0]\n",
        "  for i in lista_: ##-------- O(n)\n",
        "    if i < set_min:\n",
        "      set_min = i\n",
        "  return set_min\n"
      ],
      "execution_count": 12,
      "outputs": []
    },
    {
      "cell_type": "code",
      "metadata": {
        "colab": {
          "base_uri": "https://localhost:8080/"
        },
        "id": "ikvrPOCuV0RJ",
        "outputId": "f9c28ae0-c75d-4d36-eb51-1d08895dd07d"
      },
      "source": [
        "print(findMinOptimizado([5,4,2,1,0]))"
      ],
      "execution_count": 13,
      "outputs": [
        {
          "output_type": "stream",
          "text": [
            "0\n"
          ],
          "name": "stdout"
        }
      ]
    },
    {
      "cell_type": "code",
      "metadata": {
        "id": "2P4BKWnUWJM-"
      },
      "source": [
        "#terminar\n",
        "#for i in range(o,len(lista_compleja)):\n",
        " # l = []\n",
        "  #if type(lista_compleja)"
      ],
      "execution_count": 14,
      "outputs": []
    },
    {
      "cell_type": "code",
      "metadata": {
        "id": "MrIaUdlb9qlo"
      },
      "source": [
        ""
      ],
      "execution_count": null,
      "outputs": []
    }
  ]
}