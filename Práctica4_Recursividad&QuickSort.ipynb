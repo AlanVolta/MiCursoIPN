{
  "nbformat": 4,
  "nbformat_minor": 0,
  "metadata": {
    "colab": {
      "name": "Práctica4_Recursividad&QuickSort.ipynb",
      "provenance": [],
      "authorship_tag": "ABX9TyN5xWoWGs21bGsKT+3UoOs/",
      "include_colab_link": true
    },
    "kernelspec": {
      "name": "python3",
      "display_name": "Python 3"
    },
    "language_info": {
      "name": "python"
    }
  },
  "cells": [
    {
      "cell_type": "markdown",
      "metadata": {
        "id": "view-in-github",
        "colab_type": "text"
      },
      "source": [
        "<a href=\"https://colab.research.google.com/github/AlanVolta/MiCursoIPN/blob/master/Pr%C3%A1ctica4_Recursividad%26QuickSort.ipynb\" target=\"_parent\"><img src=\"https://colab.research.google.com/assets/colab-badge.svg\" alt=\"Open In Colab\"/></a>"
      ]
    },
    {
      "cell_type": "markdown",
      "metadata": {
        "id": "n5KjayEiOehZ"
      },
      "source": [
        "#**Recursividad**"
      ]
    },
    {
      "cell_type": "code",
      "metadata": {
        "id": "BtTLOPL_LnzS"
      },
      "source": [
        "def factorial(n):\n",
        "  if n == 0 or n == 1:\n",
        "    return 1\n",
        "  else:\n",
        "    return n * factorial(n-1)\n",
        "\n",
        "\n"
      ],
      "execution_count": null,
      "outputs": []
    },
    {
      "cell_type": "code",
      "metadata": {
        "colab": {
          "base_uri": "https://localhost:8080/"
        },
        "id": "dNNQRdNVN6Ko",
        "outputId": "42187355-0e99-4dea-ff86-16c01403f2aa"
      },
      "source": [
        "factorial(5)"
      ],
      "execution_count": null,
      "outputs": [
        {
          "output_type": "execute_result",
          "data": {
            "text/plain": [
              "120"
            ]
          },
          "metadata": {
            "tags": []
          },
          "execution_count": 2
        }
      ]
    },
    {
      "cell_type": "markdown",
      "metadata": {
        "id": "vofyodl0MKfO"
      },
      "source": [
        "#**Quicksort**"
      ]
    },
    {
      "cell_type": "code",
      "metadata": {
        "colab": {
          "base_uri": "https://localhost:8080/",
          "height": 129
        },
        "id": "ES2rII4rDkQE",
        "outputId": "69290558-02d2-4f6d-a015-6b2582943169"
      },
      "source": [
        "def particion(items, low, high):\n",
        "  pivote = items[high]\n",
        "  i = low\n",
        "  for j in range(low, high):\n",
        "    if items[j] < pivote:\n",
        "      items[i], items[j] = items[j], items[i]\n",
        "      i += 1\n",
        "  pivot_index = i\n",
        "  items[pivot_index], items[high] = items[high], items[pivot_index]\n",
        "  return pivot_index\n",
        "\n",
        "def quicksort(items, low, high):\n",
        "  if low < high:\n",
        "    p_index = particion(items, low, high)\n",
        "    quicksort(items, low, p_index-1)  ###corre por la izquierda (menores al pivote)\n",
        "    quicksort(items, p_index + 1, high) ###corre por la derecha (mayores la pivote)\n",
        "\n",
        "def quicksort_prueba():\n",
        "  lista_test = [9,5,3,6,1,0,7,8,4,2]\n",
        "  #low = 0\n",
        "  high = len(lista_test)-1\n",
        "  quicksort(lista_test, low, high)\n",
        "  print((lista_test)\n",
        "#  print(quicksort(lista_test, low, high))\n",
        "\n",
        "quicksort_prueba()"
      ],
      "execution_count": null,
      "outputs": [
        {
          "output_type": "error",
          "ename": "SyntaxError",
          "evalue": "ignored",
          "traceback": [
            "\u001b[0;36m  File \u001b[0;32m\"<ipython-input-42-449ade196c09>\"\u001b[0;36m, line \u001b[0;32m26\u001b[0m\n\u001b[0;31m    quicksort_prueba()\u001b[0m\n\u001b[0m                   ^\u001b[0m\n\u001b[0;31mSyntaxError\u001b[0m\u001b[0;31m:\u001b[0m invalid syntax\n"
          ]
        }
      ]
    },
    {
      "cell_type": "code",
      "metadata": {
        "id": "D51uI8_cKFpo"
      },
      "source": [
        "def particion(items, low, high):\n",
        "  pivote = items[high]\n",
        "  i = low\n",
        "  for j in range(low, high):\n",
        "    if items[j] < pivote:\n",
        "      items[i], items[j] = items[j], items[i]\n",
        "      i += 1\n",
        "  pivot_index = i\n",
        "  items[pivot_index], items[high] = items[high], items[pivot_index]\n",
        "  return pivot_index"
      ],
      "execution_count": null,
      "outputs": []
    },
    {
      "cell_type": "code",
      "metadata": {
        "id": "ntbGw9S9IBFQ"
      },
      "source": [
        "lista_test = [9,5,3,6,1,0,7,8,4,2]\n",
        "low = 0\n",
        "high = len(lista_test)-1"
      ],
      "execution_count": null,
      "outputs": []
    },
    {
      "cell_type": "code",
      "metadata": {
        "colab": {
          "base_uri": "https://localhost:8080/"
        },
        "id": "xE0H3HPUKRFI",
        "outputId": "036db45e-4797-4659-b95c-7c3240777bf9"
      },
      "source": [
        "particion(lista_test, low, high)"
      ],
      "execution_count": null,
      "outputs": [
        {
          "output_type": "execute_result",
          "data": {
            "text/plain": [
              "2"
            ]
          },
          "metadata": {
            "tags": []
          },
          "execution_count": 37
        }
      ]
    },
    {
      "cell_type": "code",
      "metadata": {
        "colab": {
          "base_uri": "https://localhost:8080/"
        },
        "id": "ZSsqsv7HKV_3",
        "outputId": "416e13b0-5a46-4e8e-c7ee-ef1387d6a65c"
      },
      "source": [
        "##el bueno\n",
        "def quicksort(items, low,high):\n",
        "  if low < high:\n",
        "    p_index = particion(items,low,high)\n",
        "    quicksort(items, low, p_index-1) #### Corre por la izquuerda (menores al pivote)\n",
        "    quicksort(items, p_index+1, high) ### Corre por la derecha (mayores al pivote)\n",
        "\n",
        "def particion(items, low, high):\n",
        "  pivote = items[high]\n",
        "  i = low \n",
        "  for j in range(low, high):\n",
        "    if items[j] < pivote:\n",
        "      items[i], items[j] = items[j],items[i]\n",
        "      i += 1\n",
        "  pivot_index = i\n",
        "  items[pivot_index], items[high] = items[high], items[pivot_index]\n",
        "  return pivot_index\n",
        "\n",
        "def test_quicksort():\n",
        "  test_list = [9,5,3,6,1,0,7,8,4,2]\n",
        "  high = len(test_list)-1 \n",
        "  print(test_list)\n",
        "  quicksort(test_list, low, high)\n",
        "  print('Lista_ordenada')\n",
        "  print(test_list)\n",
        "\n",
        "test_quicksort()"
      ],
      "execution_count": null,
      "outputs": [
        {
          "output_type": "stream",
          "text": [
            "[9, 5, 3, 6, 1, 0, 7, 8, 4, 2]\n",
            "Lista_ordenada\n",
            "[0, 1, 2, 3, 4, 5, 6, 7, 8, 9]\n"
          ],
          "name": "stdout"
        }
      ]
    },
    {
      "cell_type": "code",
      "metadata": {
        "id": "uVW5Sb1DNbcq"
      },
      "source": [
        "##corroborar con grabación\n",
        "\n",
        "def particion(items, low, high):\n",
        "  pivote = items[high]\n",
        "  #print('pivote')\n",
        "  i = low \n",
        "  for j in range(low, high):\n",
        "    print('indice j:', j)\n",
        "    if items[j] < pivote:\n",
        "      items[i], items[j] = items[j],items[i]\n",
        "      print('valores cambiados:', items[i], items[j])\n",
        "      i += 1\n",
        "  pivot_index = i\n",
        "  print('Pivot index', pivot_index)\n",
        "  items[pivot_index], items[high] = items[high], items[pivot_index]\n",
        "  return pivot_index"
      ],
      "execution_count": null,
      "outputs": []
    },
    {
      "cell_type": "code",
      "metadata": {
        "colab": {
          "base_uri": "https://localhost:8080/"
        },
        "id": "FYbzTFzaN138",
        "outputId": "1762709b-b181-4f4b-a226-f8a75d1da83c"
      },
      "source": [
        "lista_test = [9,5,3,6,1,0,7,8,4,2]\n",
        "low = 0\n",
        "high = len(lista_test)-1\n",
        "\n",
        "particion(lista_test, low, high)"
      ],
      "execution_count": null,
      "outputs": [
        {
          "output_type": "stream",
          "text": [
            "indice j: 0\n",
            "indice j: 1\n",
            "indice j: 2\n",
            "indice j: 3\n",
            "indice j: 4\n",
            "valores cambiados: 1 9\n",
            "indice j: 5\n",
            "valores cambiados: 0 5\n",
            "indice j: 6\n",
            "indice j: 7\n",
            "indice j: 8\n",
            "Pivot index 2\n"
          ],
          "name": "stdout"
        },
        {
          "output_type": "execute_result",
          "data": {
            "text/plain": [
              "2"
            ]
          },
          "metadata": {
            "tags": []
          },
          "execution_count": 46
        }
      ]
    }
  ]
}