{
  "nbformat": 4,
  "nbformat_minor": 0,
  "metadata": {
    "colab": {
      "name": "Ejercicios_Sesión3_Resueltos.ipynb",
      "provenance": [],
      "authorship_tag": "ABX9TyOuAH3A+BpFMo9bOcy6eZC6",
      "include_colab_link": true
    },
    "kernelspec": {
      "name": "python3",
      "display_name": "Python 3"
    },
    "language_info": {
      "name": "python"
    }
  },
  "cells": [
    {
      "cell_type": "markdown",
      "metadata": {
        "id": "view-in-github",
        "colab_type": "text"
      },
      "source": [
        "<a href=\"https://colab.research.google.com/github/AlanVolta/MiCursoIPN/blob/master/Ejercicios_Sesi%C3%B3n3_Resueltos.ipynb\" target=\"_parent\"><img src=\"https://colab.research.google.com/assets/colab-badge.svg\" alt=\"Open In Colab\"/></a>"
      ]
    },
    {
      "cell_type": "markdown",
      "metadata": {
        "id": "uGQf1oPR-VeW"
      },
      "source": [
        "#**Ejercicios de la sesión 3**\n",
        "**1.- Piensa en todos los casos posibles para que el programa que se realizó en la sesión número tres donde se resolvió el algoritmo de mínimo y máximo. Lista todos los casos que pienses, observa el ejemplo. Lista al menos 5**\n",
        "\n",
        "1. Una lista vacía\n",
        "2. Una lista con un solo valor minímo\n",
        "3. Con lista con un solo valor minímvalores negativos\n",
        "4. Con lista con un valores negativos\n",
        "5. Con lista con un flotantes\n",
        "\n",
        "Vamos a expresar nuestros casos como diccionarios para probar muy facilmente nuestros algoritmos, cada diccionario llevará dos keys, una entrada que es la lista a ingresar y una salida, que es lo que esperas que retorne tu función. Observemos:\n",
        "\n",
        "**Consejo:** siempre que se maneje una lista vacía, la salida puede ser 0"
      ]
    },
    {
      "cell_type": "code",
      "metadata": {
        "id": "I1iiygQE-Ywj"
      },
      "source": [
        "test = {\n",
        "    'input': {\n",
        "        'nums': []\n",
        "    },\n",
        "    'output': 0\n",
        "}"
      ],
      "execution_count": 2,
      "outputs": []
    },
    {
      "cell_type": "markdown",
      "metadata": {
        "id": "1jABKG5B-sXU"
      },
      "source": [
        "Recordemos que para acceder, usamos la key, por ejemplo, si yo quiero probar mi lista e ingresarla dentro de una función, solo usamos la key 'input' y la key dentro de ínput, en este caso, 'nums'. Lo mismo para la salida"
      ]
    },
    {
      "cell_type": "code",
      "metadata": {
        "id": "cKvqfXJ6-pkl",
        "colab": {
          "base_uri": "https://localhost:8080/"
        },
        "outputId": "349b15e7-83b7-4ef8-f2e4-b2a0dc0b51cb"
      },
      "source": [
        "print(test['input']['nums'])\n",
        "print(test['output'])"
      ],
      "execution_count": 4,
      "outputs": [
        {
          "output_type": "stream",
          "text": [
            "[]\n",
            "0\n"
          ],
          "name": "stdout"
        }
      ]
    },
    {
      "cell_type": "markdown",
      "metadata": {
        "id": "ioHCm4b8-10E"
      },
      "source": [
        "Almacena todos tus casos en diccionarios, por ejemplo"
      ]
    },
    {
      "cell_type": "code",
      "metadata": {
        "id": "xkLCeuLX-8TB"
      },
      "source": [
        "#Cuando una lista está vacía\n",
        "test1 = {\n",
        "    'input': {\n",
        "        'nums': []\n",
        "    },\n",
        "    'output': 0\n",
        "}"
      ],
      "execution_count": 5,
      "outputs": []
    },
    {
      "cell_type": "code",
      "metadata": {
        "colab": {
          "base_uri": "https://localhost:8080/"
        },
        "id": "rlp50j85yQsf",
        "outputId": "6988e19e-4399-4939-f80a-cc56b3b1930d"
      },
      "source": [
        "print(test1['input']['nums'])\n",
        "print(test1['output'])"
      ],
      "execution_count": 7,
      "outputs": [
        {
          "output_type": "stream",
          "text": [
            "[]\n",
            "0\n"
          ],
          "name": "stdout"
        }
      ]
    },
    {
      "cell_type": "code",
      "metadata": {
        "id": "ndXOqns8_Ad6"
      },
      "source": [
        "#Cuando una lista tiene solo un valor mínimo\n",
        "\n",
        "test2= {\n",
        "    'input': {\n",
        "        'nums': [2,3,1,4,5,6,7,8]\n",
        "    },\n",
        "    'output': 1\n",
        "}"
      ],
      "execution_count": 20,
      "outputs": []
    },
    {
      "cell_type": "code",
      "metadata": {
        "colab": {
          "base_uri": "https://localhost:8080/"
        },
        "id": "hQYs_mRyyKyg",
        "outputId": "3e327846-5b31-4d8c-bb40-70a9daef19b7"
      },
      "source": [
        "print(test2['input']['nums'])\n",
        "print(test2['output'])"
      ],
      "execution_count": 21,
      "outputs": [
        {
          "output_type": "stream",
          "text": [
            "[2, 3, 1, 4, 5, 6, 7, 8]\n",
            "1\n"
          ],
          "name": "stdout"
        }
      ]
    },
    {
      "cell_type": "code",
      "metadata": {
        "id": "_oODL1PYBcMm"
      },
      "source": [
        "#Cuando una lista tiene dos valor mínimos\n",
        "\n",
        "test3= {\n",
        "    'input': {\n",
        "        'nums': [2,3,1,1,4,5,6,7,8]\n",
        "    },\n",
        "    'output': 1\n",
        "}"
      ],
      "execution_count": 22,
      "outputs": []
    },
    {
      "cell_type": "code",
      "metadata": {
        "colab": {
          "base_uri": "https://localhost:8080/"
        },
        "id": "C24y1HwZBsOF",
        "outputId": "88418097-2283-43ce-e2e9-778d3ff79604"
      },
      "source": [
        "print(test3['input']['nums'])\n",
        "print(test3['output'])"
      ],
      "execution_count": 23,
      "outputs": [
        {
          "output_type": "stream",
          "text": [
            "[2, 3, 1, 1, 4, 5, 6, 7, 8]\n",
            "1\n"
          ],
          "name": "stdout"
        }
      ]
    },
    {
      "cell_type": "code",
      "metadata": {
        "id": "YGvp2lxhybbF"
      },
      "source": [
        "#Cuando una lista tiene valores negativos\n",
        "\n",
        "test4= {\n",
        "    'input': {\n",
        "        'nums': [2,3,1,4,-5,-6,7,8]\n",
        "    },\n",
        "    'output': -6\n",
        "}"
      ],
      "execution_count": 24,
      "outputs": []
    },
    {
      "cell_type": "code",
      "metadata": {
        "colab": {
          "base_uri": "https://localhost:8080/"
        },
        "id": "Cv0BAh3Xyro8",
        "outputId": "4811f032-4b3c-4b11-86c0-a83739fe6451"
      },
      "source": [
        "print(test4['input']['nums'])\n",
        "print(test4['output'])"
      ],
      "execution_count": 25,
      "outputs": [
        {
          "output_type": "stream",
          "text": [
            "[2, 3, 1, 4, -5, -6, 7, 8]\n",
            "-6\n"
          ],
          "name": "stdout"
        }
      ]
    },
    {
      "cell_type": "code",
      "metadata": {
        "id": "DG46SWO49k3M"
      },
      "source": [
        "#Cuando una lista tiene valores flotantes\n",
        "\n",
        "test5= {\n",
        "    'input': {\n",
        "        'nums': [2.0,3,1.1,4,5.3,6,7,8]\n",
        "    },\n",
        "    'output': 1.1\n",
        "}"
      ],
      "execution_count": 26,
      "outputs": []
    },
    {
      "cell_type": "code",
      "metadata": {
        "colab": {
          "base_uri": "https://localhost:8080/"
        },
        "id": "1vooa8EZ9zsh",
        "outputId": "3be7371a-fe2a-4e92-9ce9-2242c1b6f23d"
      },
      "source": [
        "print(test5['input']['nums'])\n",
        "print(test5['output'])"
      ],
      "execution_count": 27,
      "outputs": [
        {
          "output_type": "stream",
          "text": [
            "[2.0, 3, 1.1, 4, 5.3, 6, 7, 8]\n",
            "1.1\n"
          ],
          "name": "stdout"
        }
      ]
    },
    {
      "cell_type": "markdown",
      "metadata": {
        "id": "RoBXxi2o_MiD"
      },
      "source": [
        "**¿Recuerdas la teoría de la sesión de este ejercicio?**\n",
        "\n",
        "**Explica brevemente en una serie de pasos como trabaja el primer algoritmo que es el peor caso**\n",
        "1. Recorre valor por valor\n",
        "2. Compara el primer valor con el siguiente, sucesivamente\n",
        "3. Cuando encuentra el valor mínimo, regresa y guarda el valor"
      ]
    },
    {
      "cell_type": "code",
      "metadata": {
        "id": "5y4b_YN6_VCC"
      },
      "source": [
        "def findMin(alist):\n",
        "  minimo = alist[0] ####------O(n^2)\n",
        "  ####-------- Worst Case\n",
        "  for i in alist:\n",
        "    valor_minimo = True\n",
        "    for j in alist:\n",
        "      if i > j :\n",
        "        valor_minimo = False\n",
        "    if valor_minimo:\n",
        "      minimo = i\n",
        "  return minimo"
      ],
      "execution_count": 28,
      "outputs": []
    },
    {
      "cell_type": "markdown",
      "metadata": {
        "id": "AO0hy5lX_Xg1"
      },
      "source": [
        "**Prueba tu código ingresando en la función tus casos que están almacenados en el diccionario, ejemplo: Tienes que agregar la solución cuando la lista este vacía**"
      ]
    },
    {
      "cell_type": "code",
      "metadata": {
        "id": "660F4YS-FnwZ"
      },
      "source": [
        "def findMin(alist):\n",
        "  minimo = alist[0] ####------O(n^2)\n",
        "  ####-------- Worst Case\n",
        "  for i in alist:\n",
        "    valor_minimo = True\n",
        "    for j in alist:\n",
        "      if i > j :\n",
        "        valor_minimo = False\n",
        "    if valor_minimo:\n",
        "      minimo = i\n",
        "  return minimo"
      ],
      "execution_count": 29,
      "outputs": []
    },
    {
      "cell_type": "code",
      "metadata": {
        "id": "2b_OlmWD_YNM"
      },
      "source": [
        "findMin(test2['input']['nums'])\n",
        "\n",
        "##Para verificar que tu evaluación es correcta solo evalúa la siguiente línea\n",
        "\n",
        "print(findMin(test2['input']['nums']) == test2['output'])"
      ],
      "execution_count": null,
      "outputs": []
    },
    {
      "cell_type": "code",
      "metadata": {
        "id": "wbo-syeoF79W"
      },
      "source": [
        "#Cuando una lista está vacía\n",
        "test1 = {\n",
        "    'input': {\n",
        "        'nums': []\n",
        "    },\n",
        "    'output': 0\n",
        "}"
      ],
      "execution_count": null,
      "outputs": []
    },
    {
      "cell_type": "markdown",
      "metadata": {
        "id": "NDHApAIk_ahy"
      },
      "source": [
        "**Explica brevemente en una serie de pasos como trabaja el segundo algoritmo, pon ejemplos con listas o imágenes si lo requieres.**\n",
        "1. Se establece un valor mínimo y guarda el primer valor\n",
        "2. Se hace comparación de valores y se va actualizando el valor mínimo\n",
        "3. Cuando encuentra el valor mínimo lo actualiza y regresa el valor mínimo"
      ]
    },
    {
      "cell_type": "code",
      "metadata": {
        "id": "hneNVek-Kn6s"
      },
      "source": [
        "def findMinOptimizado(lista_):\n",
        "  ##Best case\n",
        "  set_min = lista_[0]\n",
        "  for i in lista_: ##----------> O(n)\n",
        "    if i < set_min:\n",
        "      set_min = i\n",
        "  return set_min"
      ],
      "execution_count": null,
      "outputs": []
    },
    {
      "cell_type": "markdown",
      "metadata": {
        "id": "FXRCbYOlKp6y"
      },
      "source": [
        "**Evalúa tus casos al igual que en el algotimo anterior e implementa cuando una lista es vacía**"
      ]
    },
    {
      "cell_type": "code",
      "metadata": {
        "id": "n0HXhgJpKqrp"
      },
      "source": [
        "findMinOptimizado(test2['input']['nums'])\n",
        "\n",
        "##Para verificar que tu evaluación es correcta solo evalúa la siguiente línea\n",
        "\n",
        "print(findMinOptimizado(test2['input']['nums']) == test2['output'])"
      ],
      "execution_count": null,
      "outputs": []
    },
    {
      "cell_type": "markdown",
      "metadata": {
        "id": "HmRjROsOKtL0"
      },
      "source": [
        "**Disfruta realizando tus ejercicios... Y dsfruta tu fin de semana. Cualquier duda no dudes en contactarme.**\n",
        "\n"
      ]
    },
    {
      "cell_type": "code",
      "metadata": {
        "id": "gkBUkp8iw3f5"
      },
      "source": [
        ""
      ],
      "execution_count": null,
      "outputs": []
    }
  ]
}