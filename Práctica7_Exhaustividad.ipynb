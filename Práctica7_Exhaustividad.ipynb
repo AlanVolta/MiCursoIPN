{
  "nbformat": 4,
  "nbformat_minor": 0,
  "metadata": {
    "colab": {
      "name": "Práctica7_Exhaustividad.ipynb",
      "provenance": [],
      "authorship_tag": "ABX9TyNT9pxYsF7sjBFds/8PLJ56",
      "include_colab_link": true
    },
    "kernelspec": {
      "name": "python3",
      "display_name": "Python 3"
    },
    "language_info": {
      "name": "python"
    }
  },
  "cells": [
    {
      "cell_type": "markdown",
      "metadata": {
        "id": "view-in-github",
        "colab_type": "text"
      },
      "source": [
        "<a href=\"https://colab.research.google.com/github/AlanVolta/MiCursoIPN/blob/master/Pr%C3%A1ctica7_Exhaustividad.ipynb\" target=\"_parent\"><img src=\"https://colab.research.google.com/assets/colab-badge.svg\" alt=\"Open In Colab\"/></a>"
      ]
    },
    {
      "cell_type": "markdown",
      "metadata": {
        "id": "y8fGLkffkwyb"
      },
      "source": [
        "#**Exploración exhaustiva**\n",
        "Resuelven problemas huerísticos\n",
        "\n",
        "https://ocw.ehu.eus/pluginfile.php/46103/mod_resource/content/1/04_Busqueda_Exhaustiva/04_Busqueda_Exhaustiva_v2.pdf\n",
        "Se sigiere resolver ejercicios del pdf"
      ]
    },
    {
      "cell_type": "code",
      "metadata": {
        "id": "YjDO8XiFW1RD"
      },
      "source": [
        ""
      ],
      "execution_count": null,
      "outputs": []
    },
    {
      "cell_type": "code",
      "metadata": {
        "id": "vyORjXCVf_5P"
      },
      "source": [
        ""
      ],
      "execution_count": null,
      "outputs": []
    }
  ]
}