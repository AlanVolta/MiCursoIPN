{
  "nbformat": 4,
  "nbformat_minor": 0,
  "metadata": {
    "colab": {
      "name": "Práctica6_Búsqueda.ipynb",
      "provenance": [],
      "authorship_tag": "ABX9TyNZ3j56lUxMERiYmdeJ1+cj",
      "include_colab_link": true
    },
    "kernelspec": {
      "name": "python3",
      "display_name": "Python 3"
    },
    "language_info": {
      "name": "python"
    }
  },
  "cells": [
    {
      "cell_type": "markdown",
      "metadata": {
        "id": "view-in-github",
        "colab_type": "text"
      },
      "source": [
        "<a href=\"https://colab.research.google.com/github/AlanVolta/MiCursoIPN/blob/master/Pr%C3%A1ctica6_B%C3%BAsqueda.ipynb\" target=\"_parent\"><img src=\"https://colab.research.google.com/assets/colab-badge.svg\" alt=\"Open In Colab\"/></a>"
      ]
    },
    {
      "cell_type": "markdown",
      "metadata": {
        "id": "Cq9lE7i8RrZX"
      },
      "source": [
        "#**Linear Search o Sequential Search**\n",
        "\n",
        "Puede trabajar con listas o valores desordenado\n",
        "s"
      ]
    },
    {
      "cell_type": "code",
      "metadata": {
        "id": "bcSrtAnIRaP7"
      },
      "source": [
        "def linearSearch(items, value):\n",
        "  for i in range(0,len(items)): # Término dominante en notación big O: O(n)\n",
        "    if items[i] == value:\n",
        "      return i\n",
        "  return -1\n"
      ],
      "execution_count": null,
      "outputs": []
    },
    {
      "cell_type": "code",
      "metadata": {
        "colab": {
          "base_uri": "https://localhost:8080/"
        },
        "id": "Zxkhf9loTF2p",
        "outputId": "45f3f454-79cf-47a6-cc3e-69da975a4b54"
      },
      "source": [
        "items = [2,4,6,34,25,4]\n",
        "linearSearch(items,34) # dice en qué posición está"
      ],
      "execution_count": null,
      "outputs": [
        {
          "output_type": "execute_result",
          "data": {
            "text/plain": [
              "3"
            ]
          },
          "metadata": {
            "tags": []
          },
          "execution_count": 17
        }
      ]
    },
    {
      "cell_type": "code",
      "metadata": {
        "colab": {
          "base_uri": "https://localhost:8080/"
        },
        "id": "wdZjeQ9mVD5j",
        "outputId": "b069505f-591f-47d8-9ff1-05bf7af77565"
      },
      "source": [
        "items = [2,4,6,34,25,4]\n",
        "linearSearch(items,56) # 56 no está, por el return regresa -1"
      ],
      "execution_count": null,
      "outputs": [
        {
          "output_type": "execute_result",
          "data": {
            "text/plain": [
              "-1"
            ]
          },
          "metadata": {
            "tags": []
          },
          "execution_count": 18
        }
      ]
    },
    {
      "cell_type": "code",
      "metadata": {
        "colab": {
          "base_uri": "https://localhost:8080/"
        },
        "id": "YL7VUHtzVQ0I",
        "outputId": "514fde89-139c-4643-ee49-d6235ed7b27b"
      },
      "source": [
        "items = [2,4,6,34,25,4,34,23,12]\n",
        "## varios valores\n",
        "def linearSearchMultiple(items, value): \n",
        "  for i in range(0,len(items)):\n",
        "    if items[i] == value:\n",
        "      print(i)\n",
        "\n",
        "linearSearchMultiple(items,34)\n",
        "    "
      ],
      "execution_count": null,
      "outputs": [
        {
          "output_type": "stream",
          "text": [
            "3\n",
            "6\n"
          ],
          "name": "stdout"
        }
      ]
    },
    {
      "cell_type": "code",
      "metadata": {
        "colab": {
          "base_uri": "https://localhost:8080/"
        },
        "id": "Jo012M5mTUz9",
        "outputId": "e4beaf53-cdaa-4c4f-a85d-023ce2ad33f6"
      },
      "source": [
        "#diferencia de con y sin -1\n",
        "items = [1,2,3,4,5]\n",
        "print(len(items))\n",
        "print(len(items)-1)\n",
        "\n"
      ],
      "execution_count": null,
      "outputs": [
        {
          "output_type": "stream",
          "text": [
            "5\n",
            "4\n"
          ],
          "name": "stdout"
        }
      ]
    },
    {
      "cell_type": "code",
      "metadata": {
        "colab": {
          "base_uri": "https://localhost:8080/"
        },
        "id": "7HsOF5HeUY53",
        "outputId": "64565688-10af-4f9d-a85b-3390ead483d1"
      },
      "source": [
        "for i in range(0,len(items)-1):\n",
        "  print(items[i+1])"
      ],
      "execution_count": null,
      "outputs": [
        {
          "output_type": "stream",
          "text": [
            "2\n",
            "3\n",
            "4\n",
            "5\n"
          ],
          "name": "stdout"
        }
      ]
    },
    {
      "cell_type": "markdown",
      "metadata": {
        "id": "BUcnfZWOWpdb"
      },
      "source": [
        "#**Binary Search**\n",
        "\n",
        "Trabaja con listas o valores ordenados"
      ]
    },
    {
      "cell_type": "code",
      "metadata": {
        "id": "F5_H_SsqUZy0"
      },
      "source": [
        "def binarySearch(items,value):\n",
        "  low = 0\n",
        "  high = len(items) - 1\n",
        "\n",
        "  while low <= high:\n",
        "    print('Valor low:', low)\n",
        "    print('Valor High:', high)\n",
        "    mid = (high + low)//2 #// es para que sea int\n",
        "    print('valor mid:', mid)\n",
        "    if items[mid] < value:\n",
        "      low = mid + 1\n",
        "    elif items[mid] > value:\n",
        "      high = mid - 1\n",
        "    else:\n",
        "      return mid\n",
        "  return -1"
      ],
      "execution_count": null,
      "outputs": []
    },
    {
      "cell_type": "code",
      "metadata": {
        "colab": {
          "base_uri": "https://localhost:8080/"
        },
        "id": "cgAvZEwKckVe",
        "outputId": "df049642-f73a-48d8-8796-69f99678aabf"
      },
      "source": [
        "lista_ = [2,4,8,12,16,24,36]\n",
        "binarySearch(lista_,24)"
      ],
      "execution_count": null,
      "outputs": [
        {
          "output_type": "stream",
          "text": [
            "Valor low: 0\n",
            "Valor High: 6\n",
            "valor mid: 3\n",
            "Valor low: 4\n",
            "Valor High: 6\n",
            "valor mid: 5\n"
          ],
          "name": "stdout"
        },
        {
          "output_type": "execute_result",
          "data": {
            "text/plain": [
              "5"
            ]
          },
          "metadata": {
            "tags": []
          },
          "execution_count": 36
        }
      ]
    },
    {
      "cell_type": "code",
      "metadata": {
        "colab": {
          "base_uri": "https://localhost:8080/"
        },
        "id": "CDQ1yYWZc-Ie",
        "outputId": "c6f11850-9091-42a0-c112-a836f21a528c"
      },
      "source": [
        "lista_ = [2,4,8,12,16,24,36]\n",
        "binarySearch(lista_,44) # 44 no está en  la lista por l tanto es return -1"
      ],
      "execution_count": null,
      "outputs": [
        {
          "output_type": "stream",
          "text": [
            "Valor low: 0\n",
            "Valor High: 6\n",
            "valor mid: 3\n",
            "Valor low: 4\n",
            "Valor High: 6\n",
            "valor mid: 5\n",
            "Valor low: 6\n",
            "Valor High: 6\n",
            "valor mid: 6\n"
          ],
          "name": "stdout"
        },
        {
          "output_type": "execute_result",
          "data": {
            "text/plain": [
              "-1"
            ]
          },
          "metadata": {
            "tags": []
          },
          "execution_count": 35
        }
      ]
    },
    {
      "cell_type": "code",
      "metadata": {
        "colab": {
          "base_uri": "https://localhost:8080/"
        },
        "id": "f_428Kaufx1t",
        "outputId": "141c6047-f96a-48cf-c884-8ced252950dc"
      },
      "source": [
        "binarySearch(lista_,12)"
      ],
      "execution_count": null,
      "outputs": [
        {
          "output_type": "stream",
          "text": [
            "Valor low: 0\n",
            "Valor High: 6\n",
            "valor mid: 3\n"
          ],
          "name": "stdout"
        },
        {
          "output_type": "execute_result",
          "data": {
            "text/plain": [
              "3"
            ]
          },
          "metadata": {
            "tags": []
          },
          "execution_count": 37
        }
      ]
    },
    {
      "cell_type": "code",
      "metadata": {
        "id": "Gdx05TcffT0O"
      },
      "source": [
        "def firstElement(items, value):\n",
        "  low = 0\n",
        "  high = len(items) - 1\n",
        "  res = -1\n",
        "\n",
        "  while low <= high:\n",
        "    mid = (high + low) // 2 \n",
        "    if items[mid] < value:\n",
        "      low = mid + 1\n",
        "    elif items[mid] > value:\n",
        "      high = mid - 1\n",
        "    else:\n",
        "      res = mid\n",
        "      high = mid - 1\n",
        "  return res\n",
        "\n",
        "def lastElement(items, value):\n",
        "  low = 0\n",
        "  high = len(items) - 1\n",
        "  res = -1\n",
        "\n",
        "  while low <= high:\n",
        "    mid = (high + low) // 2 \n",
        "    if items[mid] < value:\n",
        "      low = mid + 1\n",
        "    elif items[mid] > value:\n",
        "      high = mid - 1\n",
        "    else:\n",
        "      res = mid\n",
        "      low = mid + 1\n",
        "  return res"
      ],
      "execution_count": null,
      "outputs": []
    },
    {
      "cell_type": "code",
      "metadata": {
        "colab": {
          "base_uri": "https://localhost:8080/"
        },
        "id": "-QWWYmYSe4xr",
        "outputId": "954371d0-1fc5-4ced-a980-4058f27a3217"
      },
      "source": [
        "items = [2,3,4,5,5,5,5,5,5,56,7,8,12]\n",
        "print(\"El primer elemento es:\", firstElement(items, 5))\n",
        "print(\"El segundo elemento es:\", lastElement(items, 5))"
      ],
      "execution_count": null,
      "outputs": [
        {
          "output_type": "stream",
          "text": [
            "El primer elemento es: 3\n",
            "El segundo elemento es: 8\n"
          ],
          "name": "stdout"
        }
      ]
    },
    {
      "cell_type": "code",
      "metadata": {
        "id": "ZGXwyn8Niun_"
      },
      "source": [
        ""
      ],
      "execution_count": null,
      "outputs": []
    },
    {
      "cell_type": "markdown",
      "metadata": {
        "id": "S3EDPcY3Xcis"
      },
      "source": [
        "#**Búsqueda secuencial indezada o Indexed Sequential Search**"
      ]
    },
    {
      "cell_type": "code",
      "metadata": {
        "id": "mQlNfnX1kRVg"
      },
      "source": [
        "def indexedSequentialSearch(items,value,group_division):\n",
        "  elements = [0] * 20\n",
        "  indices = [0] * 20\n",
        "  i,j,index,end =  0,0,0,0\n",
        "  \n",
        "  flag = 0\n",
        "\n",
        "  for i in range(0,len(items), group_division):\n",
        "    elements[index] = items[i]\n",
        "    indices[index] = i\n",
        "    index += 1\n",
        "  print(\"elementos:\",elements)\n",
        "  print(\"indices:\",indices)\n",
        "\n",
        "\n",
        "  if value < elements[0]:\n",
        "    print('No se encuentra el valor')\n",
        "    return exit(0)\n",
        "  else:\n",
        "    for i in  range(0, index + 1):\n",
        "      if value <= elements[i]:\n",
        "        start = indices[i- 1]\n",
        "        end = indices[i]\n",
        "        flag = 1\n",
        "        break\n",
        "      \n",
        "  if flag == 0:\n",
        "    start = indices[i-1]\n",
        "    print(\"start:\",start)\n",
        "    end = len(items)\n",
        "    print(\"final:\",end)\n",
        "\n",
        "  for i in range(start,end+1):\n",
        "    if value == items[i]:\n",
        "      j = 1\n",
        "      break\n",
        "\n",
        "  if j == 1:\n",
        "    print('Mi valor fue encontrado en la posición', i)\n",
        "  else:\n",
        "    print('No se encuentra')\n",
        "   "
      ],
      "execution_count": 1,
      "outputs": []
    },
    {
      "cell_type": "code",
      "metadata": {
        "colab": {
          "base_uri": "https://localhost:8080/"
        },
        "id": "5X1kK5zjkYRG",
        "outputId": "d6993318-4dc0-4c61-fae5-3207eacec2a1"
      },
      "source": [
        "items = [12,15,17,21,28,36,57,81,99]\n",
        "indexedSequentialSearch(items,28,3)"
      ],
      "execution_count": 3,
      "outputs": [
        {
          "output_type": "stream",
          "text": [
            "elementos: [12, 21, 57, 0, 0, 0, 0, 0, 0, 0, 0, 0, 0, 0, 0, 0, 0, 0, 0, 0]\n",
            "indices: [0, 3, 6, 0, 0, 0, 0, 0, 0, 0, 0, 0, 0, 0, 0, 0, 0, 0, 0, 0]\n",
            "Mi valor fue encontrado en la posición 4\n"
          ],
          "name": "stdout"
        }
      ]
    },
    {
      "cell_type": "code",
      "metadata": {
        "colab": {
          "base_uri": "https://localhost:8080/"
        },
        "id": "gu021iYjkTDg",
        "outputId": "abdd8fc3-77ec-4dee-d966-213c1e64244b"
      },
      "source": [
        "items = [12,15,17,21,28,36,57,81,99]\n",
        "indexedSequentialSearch(items,99,3)"
      ],
      "execution_count": 2,
      "outputs": [
        {
          "output_type": "stream",
          "text": [
            "elementos: [12, 21, 57, 0, 0, 0, 0, 0, 0, 0, 0, 0, 0, 0, 0, 0, 0, 0, 0, 0]\n",
            "indices: [0, 3, 6, 0, 0, 0, 0, 0, 0, 0, 0, 0, 0, 0, 0, 0, 0, 0, 0, 0]\n",
            "start: 6\n",
            "final: 9\n",
            "Mi valor fue encontrado en la posición 8\n"
          ],
          "name": "stdout"
        }
      ]
    },
    {
      "cell_type": "code",
      "metadata": {
        "id": "xIQJ1x0KkXOy"
      },
      "source": [
        ""
      ],
      "execution_count": null,
      "outputs": []
    }
  ]
}